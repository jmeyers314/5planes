{
 "cells": [
  {
   "cell_type": "code",
   "execution_count": 1,
   "metadata": {
    "ExecuteTime": {
     "end_time": "2018-05-11T14:54:54.049082Z",
     "start_time": "2018-05-11T14:54:51.286502Z"
    }
   },
   "outputs": [],
   "source": [
    "import batoid\n",
    "import galsim\n",
    "import yaml\n",
    "import os\n",
    "import numpy as np\n",
    "import matplotlib.pyplot as plt\n",
    "%matplotlib inline\n",
    "%autoreload 2"
   ]
  },
  {
   "cell_type": "code",
   "execution_count": 2,
   "metadata": {
    "ExecuteTime": {
     "end_time": "2018-05-11T14:55:05.146636Z",
     "start_time": "2018-05-11T14:55:05.042199Z"
    }
   },
   "outputs": [],
   "source": [
    "filename = os.path.join(batoid.datadir, 'HSC', 'HSC.yaml')\n",
    "config = yaml.load(open(filename))\n",
    "fiducial_telescope = batoid.parse.parse_optic(config['opticalSystem'])"
   ]
  },
  {
   "cell_type": "code",
   "execution_count": 43,
   "metadata": {
    "ExecuteTime": {
     "end_time": "2018-05-11T15:23:46.668253Z",
     "start_time": "2018-05-11T15:23:45.207470Z"
    }
   },
   "outputs": [
    {
     "name": "stdout",
     "output_type": "stream",
     "text": [
      "[[ -4.49226436e+05   6.62373549e-02]\n",
      " [  2.10597065e-01  -4.33114237e+05]]\n"
     ]
    }
   ],
   "source": [
    "dkdu = batoid.psf.dkdu(fiducial_telescope, 0.0, 0.01, 750e-9, 1024)\n",
    "print(dkdu)"
   ]
  },
  {
   "cell_type": "code",
   "execution_count": 44,
   "metadata": {
    "ExecuteTime": {
     "end_time": "2018-05-11T15:23:48.448157Z",
     "start_time": "2018-05-11T15:23:48.422053Z"
    }
   },
   "outputs": [],
   "source": [
    "dirCos = batoid.utils.gnomicToDirCos(0.0, 0.01)\n",
    "rays = batoid.rayGrid(\n",
    "    fiducial_telescope.dist, fiducial_telescope.pupilSize, \n",
    "    dirCos[0], dirCos[1], dirCos[2], \n",
    "    nside=16, wavelength=750e-9, medium=fiducial_telescope.inMedium    \n",
    ")"
   ]
  },
  {
   "cell_type": "code",
   "execution_count": 50,
   "metadata": {
    "ExecuteTime": {
     "end_time": "2018-05-11T15:30:08.609861Z",
     "start_time": "2018-05-11T15:30:08.582531Z"
    }
   },
   "outputs": [
    {
     "name": "stdout",
     "output_type": "stream",
     "text": [
      "[ 0.5125  0.    ]\n",
      "[ 0.      0.5125]\n"
     ]
    }
   ],
   "source": [
    "du = rays.x[1] - rays.x[0]\n",
    "u1 = np.array([du, 0])\n",
    "u2 = np.array([0, du])\n",
    "\n",
    "print(u1)\n",
    "print(u2)"
   ]
  },
  {
   "cell_type": "code",
   "execution_count": 52,
   "metadata": {
    "ExecuteTime": {
     "end_time": "2018-05-11T15:31:10.434814Z",
     "start_time": "2018-05-11T15:31:10.403885Z"
    }
   },
   "outputs": [
    {
     "name": "stdout",
     "output_type": "stream",
     "text": [
      "[ -1.70569238e-06   2.60856241e-13]\n",
      "[  8.29374284e-13  -1.76914552e-06]\n",
      "\n",
      "[ -8.52846192e-07   1.30428121e-13]\n",
      "[  4.14687142e-13  -8.84572758e-07]\n"
     ]
    }
   ],
   "source": [
    "k1 = dkdu[:, 0] * du\n",
    "k2 = dkdu[:, 1] * du\n",
    "\n",
    "x1, x2 = batoid.psf.reciprocalLatticeVectors(k1, k2, 16)\n",
    "print(x1)\n",
    "print(x2)\n",
    "\n",
    "print()\n",
    "x1, x2 = batoid.psf.reciprocalLatticeVectors(k1, k2, 32)\n",
    "print(x1)\n",
    "print(x2)"
   ]
  },
  {
   "cell_type": "code",
   "execution_count": 111,
   "metadata": {
    "ExecuteTime": {
     "end_time": "2018-05-11T18:16:13.822734Z",
     "start_time": "2018-05-11T18:16:13.667218Z"
    }
   },
   "outputs": [],
   "source": [
    "wavelength = 750e-9\n",
    "\n",
    "def allLattices(N, du, theta_x, theta_y):\n",
    "    print(\"N = {:d}\".format(N))\n",
    "    print(\"du = {:8.6f}\".format(du))\n",
    "    \n",
    "    u1 = np.array([du, 0])\n",
    "    u2 = np.array([0, du])\n",
    "    print()\n",
    "    print(\"u1 = {}\".format(u1))\n",
    "    print(\"u2 = {}\".format(u2))\n",
    "    \n",
    "    dkdu = batoid.psf.dkdu(fiducial_telescope, theta_x, theta_y, wavelength, 1024)    \n",
    "    print()\n",
    "    print(\"dkdu = {}\".format(dkdu))\n",
    "    \n",
    "    k1 = dkdu.dot(u1)\n",
    "    k2 = dkdu.dot(u2)    \n",
    "    print()\n",
    "    print(\"k1 = {}\".format(k1))\n",
    "    print(\"k2 = {}\".format(k2))    \n",
    "    \n",
    "    print(\"k1/du = {}\".format(k1/du))\n",
    "    print(\"k2/du = {}\".format(k2/du))\n",
    "    \n",
    "    x1, x2 = batoid.psf.reciprocalLatticeVectors(k1, k2, N)\n",
    "    print()\n",
    "    print(\"x1 = {}\".format(x1))\n",
    "    print(\"x2 = {}\".format(x2))    \n",
    "    \n",
    "    print(\"x1*du*N = {}\".format(x1*du*N))\n",
    "    print(\"x2*du*N = {}\".format(x2*du*N))\n",
    "    \n",
    "    # Converting to tangent plane coords\n",
    "    dGnomicDFocal = batoid.psf.dthdr(fiducial_telescope, theta_x, theta_y, wavelength)\n",
    "    print()\n",
    "    print(\"dGnomicDFocal = {}\".format(dGnomicDFocal))\n",
    "    gnomic1 = dGnomicDFocal.dot(x1)\n",
    "    gnomic2 = dGnomicDFocal.dot(x2)\n",
    "    print(\"gnomic1 = {}\".format(gnomic1))\n",
    "    print(\"gnomic2 = {}\".format(gnomic2))\n",
    "    \n",
    "    print(\"gnomic1*du*N = {}\".format(gnomic1*du*N))\n",
    "    print(\"gnomic2*du*N = {}\".format(gnomic2*du*N))\n",
    "\n",
    "    # Converting to spherical coords\n",
    "    dSphericalDGnomic = batoid.utils.dSphericalDGnomic(theta_x, theta_y)\n",
    "    print()\n",
    "    print(\"dSphericalDGnomic = {}\".format(dSphericalDGnomic))\n",
    "    spherical1 = dSphericalDGnomic.dot(gnomic1)\n",
    "    spherical2 = dSphericalDGnomic.dot(gnomic2)\n",
    "    print(\"spherical1 = {}\".format(spherical1))\n",
    "    print(\"spherical2 = {}\".format(spherical2))\n",
    "\n",
    "    print(\"spherical1*du*N = {}\".format(spherical1*du*N))\n",
    "    print(\"spherical2*du*N = {}\".format(spherical2*du*N))"
   ]
  },
  {
   "cell_type": "code",
   "execution_count": 112,
   "metadata": {
    "ExecuteTime": {
     "end_time": "2018-05-11T18:16:15.933495Z",
     "start_time": "2018-05-11T18:16:14.404329Z"
    }
   },
   "outputs": [
    {
     "name": "stdout",
     "output_type": "stream",
     "text": [
      "N = 16\n",
      "du = 0.100000\n",
      "\n",
      "u1 = [ 0.1  0. ]\n",
      "u2 = [ 0.   0.1]\n",
      "\n",
      "dkdu = [[ -4.49226436e+05   6.62373549e-02]\n",
      " [  2.10597065e-01  -4.33114237e+05]]\n",
      "\n",
      "k1 = [ -4.49226436e+04   2.10597065e-02]\n",
      "k2 = [  6.62373549e-03  -4.33114237e+04]\n",
      "k1/du = [ -4.49226436e+05   2.10597065e-01]\n",
      "k2/du = [  6.62373549e-02  -4.33114237e+05]\n",
      "\n",
      "x1 = [ -8.74167347e-06   1.33688824e-12]\n",
      "x2 = [  4.25054321e-12  -9.06687077e-06]\n",
      "x1*du*N = [ -1.39866776e-05   2.13902118e-12]\n",
      "x2*du*N = [  6.80086913e-12  -1.45069932e-05]\n",
      "\n",
      "dGnomicDFocal = [[  5.36251801e-02  -9.31086192e-07]\n",
      " [ -7.25378381e-08   5.16997944e-02]]\n",
      "gnomic1 = [ -4.68773814e-07   7.03218942e-13]\n",
      "gnomic2 = [  8.66997433e-12  -4.68755355e-07]\n",
      "gnomic1*du*N = [ -7.50038102e-07   1.12515031e-12]\n",
      "gnomic2*du*N = [  1.38719589e-11  -7.50008568e-07]\n",
      "\n",
      "dSphericalDGnomic = [[ 0.          0.99990001]\n",
      " [-0.99995     0.        ]]\n",
      "spherical1 = [  7.03148627e-13   4.68750377e-07]\n",
      "spherical2 = [ -4.68708484e-07  -8.66954086e-12]\n",
      "spherical1*du*N = [  1.12503780e-12   7.50000603e-07]\n",
      "spherical2*du*N = [ -7.49933574e-07  -1.38712654e-11]\n"
     ]
    }
   ],
   "source": [
    "allLattices(16, 0.1, 0.0, 0.01)"
   ]
  },
  {
   "cell_type": "code",
   "execution_count": 113,
   "metadata": {
    "ExecuteTime": {
     "end_time": "2018-05-11T18:16:17.559672Z",
     "start_time": "2018-05-11T18:16:15.936275Z"
    }
   },
   "outputs": [
    {
     "name": "stdout",
     "output_type": "stream",
     "text": [
      "N = 32\n",
      "du = 0.100000\n",
      "\n",
      "u1 = [ 0.1  0. ]\n",
      "u2 = [ 0.   0.1]\n",
      "\n",
      "dkdu = [[ -4.49226436e+05   6.62373549e-02]\n",
      " [  2.10597065e-01  -4.33114237e+05]]\n",
      "\n",
      "k1 = [ -4.49226436e+04   2.10597065e-02]\n",
      "k2 = [  6.62373549e-03  -4.33114237e+04]\n",
      "k1/du = [ -4.49226436e+05   2.10597065e-01]\n",
      "k2/du = [  6.62373549e-02  -4.33114237e+05]\n",
      "\n",
      "x1 = [ -4.37083674e-06   6.68444118e-13]\n",
      "x2 = [  2.12527160e-12  -4.53343539e-06]\n",
      "x1*du*N = [ -1.39866776e-05   2.13902118e-12]\n",
      "x2*du*N = [  6.80086913e-12  -1.45069932e-05]\n",
      "\n",
      "dGnomicDFocal = [[  5.36251801e-02  -9.31086192e-07]\n",
      " [ -7.25378381e-08   5.16997944e-02]]\n",
      "gnomic1 = [ -2.34386907e-07   3.51609471e-13]\n",
      "gnomic2 = [  4.33498716e-12  -2.34377677e-07]\n",
      "gnomic1*du*N = [ -7.50038102e-07   1.12515031e-12]\n",
      "gnomic2*du*N = [  1.38719589e-11  -7.50008568e-07]\n",
      "\n",
      "dSphericalDGnomic = [[ 0.          0.99990001]\n",
      " [-0.99995     0.        ]]\n",
      "spherical1 = [  3.51574314e-13   2.34375189e-07]\n",
      "spherical2 = [ -2.34354242e-07  -4.33477043e-12]\n",
      "spherical1*du*N = [  1.12503780e-12   7.50000603e-07]\n",
      "spherical2*du*N = [ -7.49933574e-07  -1.38712654e-11]\n"
     ]
    }
   ],
   "source": [
    "allLattices(32, 0.1, 0.0, 0.01)"
   ]
  },
  {
   "cell_type": "code",
   "execution_count": 114,
   "metadata": {
    "ExecuteTime": {
     "end_time": "2018-05-11T18:16:19.094840Z",
     "start_time": "2018-05-11T18:16:17.562085Z"
    }
   },
   "outputs": [
    {
     "name": "stdout",
     "output_type": "stream",
     "text": [
      "N = 32\n",
      "du = 0.200000\n",
      "\n",
      "u1 = [ 0.2  0. ]\n",
      "u2 = [ 0.   0.2]\n",
      "\n",
      "dkdu = [[ -4.49226436e+05   6.62373549e-02]\n",
      " [  2.10597065e-01  -4.33114237e+05]]\n",
      "\n",
      "k1 = [ -8.98452872e+04   4.21194130e-02]\n",
      "k2 = [  1.32474710e-02  -8.66228474e+04]\n",
      "k1/du = [ -4.49226436e+05   2.10597065e-01]\n",
      "k2/du = [  6.62373549e-02  -4.33114237e+05]\n",
      "\n",
      "x1 = [ -2.18541837e-06   3.34222059e-13]\n",
      "x2 = [  1.06263580e-12  -2.26671769e-06]\n",
      "x1*du*N = [ -1.39866776e-05   2.13902118e-12]\n",
      "x2*du*N = [  6.80086913e-12  -1.45069932e-05]\n",
      "\n",
      "dGnomicDFocal = [[  5.36251801e-02  -9.31086192e-07]\n",
      " [ -7.25378381e-08   5.16997944e-02]]\n",
      "gnomic1 = [ -1.17193454e-07   1.75804736e-13]\n",
      "gnomic2 = [  2.16749358e-12  -1.17188839e-07]\n",
      "gnomic1*du*N = [ -7.50038102e-07   1.12515031e-12]\n",
      "gnomic2*du*N = [  1.38719589e-11  -7.50008568e-07]\n",
      "\n",
      "dSphericalDGnomic = [[ 0.          0.99990001]\n",
      " [-0.99995     0.        ]]\n",
      "spherical1 = [  1.75787157e-13   1.17187594e-07]\n",
      "spherical2 = [ -1.17177121e-07  -2.16738522e-12]\n",
      "spherical1*du*N = [  1.12503780e-12   7.50000603e-07]\n",
      "spherical2*du*N = [ -7.49933574e-07  -1.38712654e-11]\n"
     ]
    }
   ],
   "source": [
    "allLattices(32, 0.2, 0.0, 0.01)"
   ]
  },
  {
   "cell_type": "code",
   "execution_count": null,
   "metadata": {},
   "outputs": [],
   "source": []
  }
 ],
 "metadata": {
  "kernelspec": {
   "display_name": "Python 3",
   "language": "python",
   "name": "python3"
  },
  "language_info": {
   "codemirror_mode": {
    "name": "ipython",
    "version": 3
   },
   "file_extension": ".py",
   "mimetype": "text/x-python",
   "name": "python",
   "nbconvert_exporter": "python",
   "pygments_lexer": "ipython3",
   "version": "3.6.2"
  }
 },
 "nbformat": 4,
 "nbformat_minor": 2
}
