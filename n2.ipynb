{
 "cells": [
  {
   "cell_type": "code",
   "execution_count": 1,
   "metadata": {
    "ExecuteTime": {
     "end_time": "2018-04-30T21:49:37.868746Z",
     "start_time": "2018-04-30T21:49:37.174715Z"
    }
   },
   "outputs": [],
   "source": [
    "import batoid\n",
    "import os\n",
    "import yaml\n",
    "import numpy as np\n",
    "import matplotlib.pyplot as plt\n",
    "%matplotlib inline\n",
    "\n",
    "%autoreload 2"
   ]
  },
  {
   "cell_type": "code",
   "execution_count": 2,
   "metadata": {
    "ExecuteTime": {
     "end_time": "2018-04-30T21:49:39.080839Z",
     "start_time": "2018-04-30T21:49:38.991703Z"
    }
   },
   "outputs": [],
   "source": [
    "HSC_fn = os.path.join(batoid.datadir, \"HSC\", \"HSC.yaml\")\n",
    "config = yaml.load(open(HSC_fn))\n",
    "fiducial_telescope = batoid.parse.parse_optic(config['opticalSystem'])"
   ]
  },
  {
   "cell_type": "code",
   "execution_count": 252,
   "metadata": {
    "ExecuteTime": {
     "end_time": "2018-04-26T22:18:24.314164Z",
     "start_time": "2018-04-26T22:18:23.859205Z"
    }
   },
   "outputs": [
    {
     "name": "stdout",
     "output_type": "stream",
     "text": [
      "[0.22652046732936743, -0.22652046732936743, -0.22652046732940101, 0.22652046732940101]\n"
     ]
    },
    {
     "data": {
      "text/plain": [
       "<matplotlib.colorbar.Colorbar at 0x131b86b00>"
      ]
     },
     "execution_count": 252,
     "metadata": {},
     "output_type": "execute_result"
    },
    {
     "data": {
      "image/png": "[encoded data removed]",
      "text/plain": [
       "<matplotlib.figure.Figure at 0x130c1c9b0>"
      ]
     },
     "metadata": {},
     "output_type": "display_data"
    }
   ],
   "source": [
    "xextent = th1[0]*206265*psf.shape[0]*0.5*np.r_[-1, 1]\n",
    "yextent = th2[1]*206265*psf.shape[1]*0.5*np.r_[-1, 1]\n",
    "extent = [*xextent, *yextent]\n",
    "print(extent)\n",
    "plt.imshow(psf, extent=[*xextent, *yextent])\n",
    "plt.colorbar()"
   ]
  },
  {
   "cell_type": "code",
   "execution_count": 231,
   "metadata": {
    "ExecuteTime": {
     "end_time": "2018-04-26T22:15:29.164024Z",
     "start_time": "2018-04-26T22:15:29.143522Z"
    }
   },
   "outputs": [],
   "source": [
    "import galsim"
   ]
  },
  {
   "cell_type": "code",
   "execution_count": 253,
   "metadata": {
    "ExecuteTime": {
     "end_time": "2018-04-26T22:19:21.526118Z",
     "start_time": "2018-04-26T22:19:21.502839Z"
    }
   },
   "outputs": [
    {
     "data": {
      "text/plain": [
       "0.035694593470890414"
      ]
     },
     "execution_count": 253,
     "metadata": {},
     "output_type": "execute_result"
    }
   ],
   "source": [
    "wcs = galsim.JacobianWCS(th1[0], th1[1], th2[0], th2[1])\n",
    "g = wcs.getDecomposition()[1]\n",
    "np.hypot(g.g1, g.g2)"
   ]
  },
  {
   "cell_type": "code",
   "execution_count": 257,
   "metadata": {
    "ExecuteTime": {
     "end_time": "2018-04-26T22:20:08.340716Z",
     "start_time": "2018-04-26T22:20:08.318066Z"
    }
   },
   "outputs": [
    {
     "data": {
      "text/plain": [
       "0.20498458361355176"
      ]
     },
     "execution_count": 257,
     "metadata": {},
     "output_type": "execute_result"
    }
   ],
   "source": [
    "wcs.pixelArea() * (206265)**2 * psf.shape[0]**2"
   ]
  },
  {
   "cell_type": "code",
   "execution_count": 277,
   "metadata": {
    "ExecuteTime": {
     "end_time": "2018-04-26T23:30:07.146360Z",
     "start_time": "2018-04-26T23:30:07.124436Z"
    }
   },
   "outputs": [],
   "source": [
    "alpha = 0.1\n",
    "beta = 0.1\n",
    "gamma = np.sqrt(1 - alpha**2 - beta**2)\n",
    "testray = batoid.Ray(0,0,-1,alpha,beta,gamma)"
   ]
  },
  {
   "cell_type": "code",
   "execution_count": 278,
   "metadata": {
    "ExecuteTime": {
     "end_time": "2018-04-26T23:30:08.031029Z",
     "start_time": "2018-04-26T23:30:08.010764Z"
    }
   },
   "outputs": [],
   "source": [
    "p = batoid.Plane()"
   ]
  },
  {
   "cell_type": "code",
   "execution_count": 279,
   "metadata": {
    "ExecuteTime": {
     "end_time": "2018-04-26T23:30:08.982892Z",
     "start_time": "2018-04-26T23:30:08.962989Z"
    }
   },
   "outputs": [],
   "source": [
    "newray = p.intersect(testray)"
   ]
  },
  {
   "cell_type": "code",
   "execution_count": 280,
   "metadata": {
    "ExecuteTime": {
     "end_time": "2018-04-26T23:30:09.887235Z",
     "start_time": "2018-04-26T23:30:09.866957Z"
    }
   },
   "outputs": [
    {
     "name": "stdout",
     "output_type": "stream",
     "text": [
      "[  1.01015254e-01   1.01015254e-01  -1.11022302e-16]\n"
     ]
    }
   ],
   "source": [
    "print(newray.p0)"
   ]
  },
  {
   "cell_type": "code",
   "execution_count": 283,
   "metadata": {
    "ExecuteTime": {
     "end_time": "2018-04-26T23:31:35.816408Z",
     "start_time": "2018-04-26T23:31:35.795357Z"
    }
   },
   "outputs": [],
   "source": [
    "u = np.sqrt(1-gamma**2)/gamma*alpha/np.sqrt(alpha**2+beta**2)\n",
    "v = np.sqrt(1-gamma**2)/gamma*beta/np.sqrt(alpha**2+beta**2)"
   ]
  },
  {
   "cell_type": "code",
   "execution_count": 287,
   "metadata": {
    "ExecuteTime": {
     "end_time": "2018-04-26T23:36:31.638109Z",
     "start_time": "2018-04-26T23:36:31.616960Z"
    }
   },
   "outputs": [],
   "source": [
    "def dirCosToTanPlane(alpha, beta, gamma):\n",
    "    u = alpha/gamma\n",
    "    v = beta/gamma\n",
    "    return u, v"
   ]
  },
  {
   "cell_type": "code",
   "execution_count": 288,
   "metadata": {
    "ExecuteTime": {
     "end_time": "2018-04-26T23:37:11.140921Z",
     "start_time": "2018-04-26T23:37:11.120391Z"
    }
   },
   "outputs": [],
   "source": [
    "def tanPlaneToDirCos(u, v):\n",
    "    gamma = 1.0/np.sqrt(1.0+u**2+v**2)\n",
    "    return gamma*u, gamma*v, gamma"
   ]
  },
  {
   "cell_type": "code",
   "execution_count": 299,
   "metadata": {
    "ExecuteTime": {
     "end_time": "2018-04-26T23:44:15.212335Z",
     "start_time": "2018-04-26T23:44:15.189013Z"
    }
   },
   "outputs": [
    {
     "data": {
      "text/plain": [
       "(0.030543261909900768, 0.0, 0.99953344573951264)"
      ]
     },
     "execution_count": 299,
     "metadata": {},
     "output_type": "execute_result"
    }
   ],
   "source": [
    "alpha = 1.75*np.pi/180\n",
    "beta = 0.\n",
    "gamma = np.sqrt(1 - alpha**2 - beta**2)\n",
    "\n",
    "tanPlaneToDirCos(*dirCosToTanPlane(alpha, beta, gamma))"
   ]
  },
  {
   "cell_type": "code",
   "execution_count": 302,
   "metadata": {
    "ExecuteTime": {
     "end_time": "2018-04-26T23:45:01.731327Z",
     "start_time": "2018-04-26T23:45:01.708585Z"
    }
   },
   "outputs": [
    {
     "data": {
      "text/plain": [
       "array([ 1.75081685,  0.        ])"
      ]
     },
     "execution_count": 302,
     "metadata": {},
     "output_type": "execute_result"
    }
   ],
   "source": [
    "180/np.pi*np.r_[dirCosToTanPlane(alpha, beta, gamma)]"
   ]
  },
  {
   "cell_type": "code",
   "execution_count": null,
   "metadata": {},
   "outputs": [],
   "source": []
  }
 ],
 "metadata": {
  "kernelspec": {
   "display_name": "Python 3",
   "language": "python",
   "name": "python3"
  },
  "language_info": {
   "codemirror_mode": {
    "name": "ipython",
    "version": 3
   },
   "file_extension": ".py",
   "mimetype": "text/x-python",
   "name": "python",
   "nbconvert_exporter": "python",
   "pygments_lexer": "ipython3",
   "version": "3.6.2"
  }
 },
 "nbformat": 4,
 "nbformat_minor": 2
}
